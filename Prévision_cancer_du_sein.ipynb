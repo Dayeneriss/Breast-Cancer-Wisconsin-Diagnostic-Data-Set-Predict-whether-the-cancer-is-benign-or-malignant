{
  "nbformat": 4,
  "nbformat_minor": 0,
  "metadata": {
    "colab": {
      "name": "Prévision cancer du sein.ipynb",
      "version": "0.3.2",
      "provenance": [],
      "collapsed_sections": []
    },
    "kernelspec": {
      "name": "python3",
      "display_name": "Python 3"
    }
  },
  "cells": [
    {
      "cell_type": "markdown",
      "metadata": {
        "id": "n8sT38vaX9cT",
        "colab_type": "text"
      },
      "source": [
        "'''Dans ce projet, nous utiliserons plusieurs bibliotheques Python pour crer un classificateur K-Nearest Neighbor form pour prédire si une patiente a un cancer du sein.''\n",
        "\n",
        "https://www.kaggle.com/uciml/breast-cancer-wisconsin-data\n",
        "\n",
        "https://www.codecademy.com/paths/machine-learning/tracks/introduction-to-supervised-learning-skill-path/modules/k-nearest-neighbors-skill-path/projects/knn-project"
      ]
    },
    {
      "cell_type": "code",
      "metadata": {
        "id": "esqkBfpFYBQr",
        "colab_type": "code",
        "colab": {}
      },
      "source": [
        "\n",
        "from sklearn.datasets import load_breast_cancer\n",
        "from sklearn.model_selection import train_test_split\n",
        "from sklearn.neighbors import KNeighborsClassifier\n",
        "import matplotlib.pyplot as plt\n"
      ],
      "execution_count": 0,
      "outputs": []
    },
    {
      "cell_type": "code",
      "metadata": {
        "id": "O7EVYvn_YMrS",
        "colab_type": "code",
        "colab": {}
      },
      "source": [
        "breast_cancer_data = load_breast_cancer()\n",
        "#print(breast_cancer_data)\n",
        "#print (breast_cancer_data.feature_names)\n",
        "\n",
        "#print(breast_cancer_data.target)\n",
        "#print(breast_cancer_data.target_names)\n"
      ],
      "execution_count": 0,
      "outputs": []
    },
    {
      "cell_type": "markdown",
      "metadata": {
        "id": "BSTxbdJ-YxO5",
        "colab_type": "text"
      },
      "source": [
        "'''Fractionnement des donnes en ensembles de formation et de validation'''"
      ]
    },
    {
      "cell_type": "code",
      "metadata": {
        "id": "WcJyHzfxY1BX",
        "colab_type": "code",
        "colab": {}
      },
      "source": [
        "train_test_split(breast_cancer_data.data, breast_cancer_data.target, test_size = 0.2, random_state = 100)\n",
        "\n",
        "training_data, validation_data, training_labels, validation_labels=  train_test_split(breast_cancer_data.data, breast_cancer_data.target, test_size = 0.2, random_state = 80)\n",
        "\n",
        "#print(len(training_data))\n",
        "#print(len(training_labels))\n"
      ],
      "execution_count": 0,
      "outputs": []
    },
    {
      "cell_type": "markdown",
      "metadata": {
        "id": "b0bugnO7ZSyG",
        "colab_type": "text"
      },
      "source": [
        "'''Excuter le classificateur'''"
      ]
    },
    {
      "cell_type": "code",
      "metadata": {
        "id": "hbA3cFK9ZYAF",
        "colab_type": "code",
        "outputId": "50d33d30-2682-4e9f-a0d9-fcd32216686a",
        "colab": {
          "base_uri": "https://localhost:8080/",
          "height": 1835
        }
      },
      "source": [
        "classifier= KNeighborsClassifier(n_neighbors = 3)\n",
        "classifier.fit(training_data,training_labels)\n",
        "\n",
        "#print(classifier.score(validation_data, validation_labels))\n",
        "accuracies= [] \n",
        "for k in range(1, 101):\n",
        "  classifier= KNeighborsClassifier(n_neighbors = k)\n",
        "  classifier.fit(training_data,training_labels)\n",
        "  print(classifier.score(validation_data, validation_labels))\n",
        "  \n",
        "  accuracies.append(classifier.score(validation_data, validation_labels)) \n",
        "  k_list= range(1,101)"
      ],
      "execution_count": 0,
      "outputs": [
        {
          "output_type": "stream",
          "text": [
            "0.9473684210526315\n",
            "0.9473684210526315\n",
            "0.9473684210526315\n",
            "0.9385964912280702\n",
            "0.9473684210526315\n",
            "0.9473684210526315\n",
            "0.956140350877193\n",
            "0.9649122807017544\n",
            "0.9473684210526315\n",
            "0.9649122807017544\n",
            "0.9473684210526315\n",
            "0.956140350877193\n",
            "0.9473684210526315\n",
            "0.9473684210526315\n",
            "0.9473684210526315\n",
            "0.9473684210526315\n",
            "0.9473684210526315\n",
            "0.9473684210526315\n",
            "0.9473684210526315\n",
            "0.9473684210526315\n",
            "0.9473684210526315\n",
            "0.9473684210526315\n",
            "0.9385964912280702\n",
            "0.9473684210526315\n",
            "0.9385964912280702\n",
            "0.9385964912280702\n",
            "0.9385964912280702\n",
            "0.9385964912280702\n",
            "0.9385964912280702\n",
            "0.9385964912280702\n",
            "0.9385964912280702\n",
            "0.9385964912280702\n",
            "0.9385964912280702\n",
            "0.9385964912280702\n",
            "0.9210526315789473\n",
            "0.9385964912280702\n",
            "0.9298245614035088\n",
            "0.9385964912280702\n",
            "0.9298245614035088\n",
            "0.9385964912280702\n",
            "0.9210526315789473\n",
            "0.9385964912280702\n",
            "0.9298245614035088\n",
            "0.9385964912280702\n",
            "0.9385964912280702\n",
            "0.9385964912280702\n",
            "0.9385964912280702\n",
            "0.9385964912280702\n",
            "0.9385964912280702\n",
            "0.9385964912280702\n",
            "0.9210526315789473\n",
            "0.9210526315789473\n",
            "0.9210526315789473\n",
            "0.9210526315789473\n",
            "0.9122807017543859\n",
            "0.9122807017543859\n",
            "0.9122807017543859\n",
            "0.9122807017543859\n",
            "0.9122807017543859\n",
            "0.9210526315789473\n",
            "0.9210526315789473\n",
            "0.9210526315789473\n",
            "0.9210526315789473\n",
            "0.9210526315789473\n",
            "0.9210526315789473\n",
            "0.9210526315789473\n",
            "0.9210526315789473\n",
            "0.9210526315789473\n",
            "0.9210526315789473\n",
            "0.9210526315789473\n",
            "0.9210526315789473\n",
            "0.9210526315789473\n",
            "0.9122807017543859\n",
            "0.9210526315789473\n",
            "0.9122807017543859\n",
            "0.9210526315789473\n",
            "0.9122807017543859\n",
            "0.9122807017543859\n",
            "0.9122807017543859\n",
            "0.9122807017543859\n",
            "0.9122807017543859\n",
            "0.9122807017543859\n",
            "0.9122807017543859\n",
            "0.9122807017543859\n",
            "0.9122807017543859\n",
            "0.9122807017543859\n",
            "0.9122807017543859\n",
            "0.9210526315789473\n",
            "0.9122807017543859\n",
            "0.9210526315789473\n",
            "0.9122807017543859\n",
            "0.9210526315789473\n",
            "0.9122807017543859\n",
            "0.9122807017543859\n",
            "0.9122807017543859\n",
            "0.9210526315789473\n",
            "0.9210526315789473\n",
            "0.9210526315789473\n",
            "0.9210526315789473\n",
            "0.9210526315789473\n"
          ],
          "name": "stdout"
        }
      ]
    },
    {
      "cell_type": "markdown",
      "metadata": {
        "id": "kfAC50-dZc71",
        "colab_type": "text"
      },
      "source": [
        "'''Représenter graphiquement les résultats'''"
      ]
    },
    {
      "cell_type": "code",
      "metadata": {
        "id": "9AvzR2WdZfol",
        "colab_type": "code",
        "outputId": "5557c11d-5773-4fbf-f782-100ddb41b4f2",
        "colab": {
          "base_uri": "https://localhost:8080/",
          "height": 295
        }
      },
      "source": [
        "plt.plot(k_list,accuracies)\n",
        "plt.xlabel(\"k\")\n",
        "plt.ylabel(\"Validation Accuracy\")\n",
        "plt.title(\"Breast Cancer Classifier Accuracy\")\n",
        "plt.show()\n",
        "\n",
        "  "
      ],
      "execution_count": 0,
      "outputs": [
        {
          "output_type": "display_data",
          "data": {
            "image/png": "[encoded data removed]",
            "text/plain": [
              "<Figure size 432x288 with 1 Axes>"
            ]
          },
          "metadata": {
            "tags": []
          }
        }
      ]
    }
  ]
}
